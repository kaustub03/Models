{
 "cells": [
  {
   "cell_type": "code",
   "execution_count": 83,
   "metadata": {},
   "outputs": [],
   "source": [
    "import numpy as np\n",
    "import matplotlib.pyplot as plt\n",
    "import pandas as pd\n",
    "import torch\n",
    "import torch.nn as nn"
   ]
  },
  {
   "cell_type": "code",
   "execution_count": 84,
   "metadata": {},
   "outputs": [],
   "source": [
    "device = 'cuda' if torch.cuda.is_available() else 'cpu'"
   ]
  },
  {
   "cell_type": "code",
   "execution_count": 85,
   "metadata": {},
   "outputs": [],
   "source": [
    "dataset = pd.read_csv('Obfuscated-MalMem2022.csv')\n",
    "x = dataset.iloc[:, 1:-1].values\n",
    "y = dataset.iloc[:, -1].values"
   ]
  },
  {
   "cell_type": "code",
   "execution_count": 86,
   "metadata": {},
   "outputs": [],
   "source": [
    "from sklearn.preprocessing import StandardScaler,LabelEncoder\n",
    "ss=StandardScaler()\n",
    "x=ss.fit_transform(x)\n",
    "le=LabelEncoder()\n",
    "y=le.fit_transform(y)"
   ]
  },
  {
   "cell_type": "code",
   "execution_count": 87,
   "metadata": {},
   "outputs": [],
   "source": [
    "from sklearn.model_selection import train_test_split\n",
    "x_train, x_test, y_train, y_test = train_test_split(x, y, test_size = 0.2, random_state =42)"
   ]
  },
  {
   "cell_type": "code",
   "execution_count": 88,
   "metadata": {},
   "outputs": [],
   "source": [
    "x_train=torch.FloatTensor(x_train).to(device)\n",
    "x_test=torch.FloatTensor(x_test).to(device)\n",
    "y_train=torch.FloatTensor(y_train).to(device)\n",
    "y_test=torch.FloatTensor(y_test).to(device)"
   ]
  },
  {
   "cell_type": "code",
   "execution_count": 89,
   "metadata": {},
   "outputs": [],
   "source": [
    "class BinClass(nn.Module):\n",
    "    def __init__(self):\n",
    "        super().__init__()\n",
    "        self.layer_1=nn.Linear(55,100,device=device)\n",
    "        self.layer_2=nn.Linear(100,100,device=device)\n",
    "        self.layer_3=nn.Linear(100,1,device=device)\n",
    "        self.act=nn.ReLU()\n",
    "        self.out=nn.Sigmoid()\n",
    "    def forward(self,x):\n",
    "        return self.out(self.layer_3(self.act(self.layer_2(self.act(self.layer_1(x))))))\n",
    "    \n",
    "model=BinClass().to(device)"
   ]
  },
  {
   "cell_type": "code",
   "execution_count": 90,
   "metadata": {},
   "outputs": [],
   "source": [
    "loss_fn=nn.BCELoss()\n",
    "optimizer=torch.optim.Adam(model.parameters(),lr=0.1)"
   ]
  },
  {
   "cell_type": "code",
   "execution_count": 91,
   "metadata": {},
   "outputs": [],
   "source": [
    "def accuracy_fn(y_true, y_pred):\n",
    "    correct = torch.eq(y_true, y_pred).sum().item()\n",
    "    acc = (correct / len(y_pred)) * 100 \n",
    "    return acc"
   ]
  },
  {
   "cell_type": "code",
   "execution_count": 118,
   "metadata": {},
   "outputs": [
    {
     "name": "stdout",
     "output_type": "stream",
     "text": [
      "Epoch: 0 | Loss: 0.25873, Acc: 99.74% | Test Loss: 0.22184, Test Acc: 99.78%\n",
      "Epoch: 1000 | Loss: 0.23466, Acc: 99.77% | Test Loss: 0.22544, Test Acc: 99.77%\n",
      "Epoch: 2000 | Loss: 0.23466, Acc: 99.77% | Test Loss: 0.22544, Test Acc: 99.77%\n",
      "Epoch: 3000 | Loss: 0.23466, Acc: 99.77% | Test Loss: 0.22544, Test Acc: 99.77%\n",
      "Epoch: 4000 | Loss: 0.23466, Acc: 99.77% | Test Loss: 0.22544, Test Acc: 99.77%\n",
      "Epoch: 5000 | Loss: 0.23466, Acc: 99.77% | Test Loss: 0.22544, Test Acc: 99.77%\n",
      "Epoch: 6000 | Loss: 0.23466, Acc: 99.77% | Test Loss: 0.22544, Test Acc: 99.77%\n",
      "Epoch: 7000 | Loss: 0.23466, Acc: 99.77% | Test Loss: 0.22544, Test Acc: 99.77%\n",
      "Epoch: 8000 | Loss: 0.23466, Acc: 99.77% | Test Loss: 0.22544, Test Acc: 99.77%\n",
      "Epoch: 9000 | Loss: 0.23466, Acc: 99.77% | Test Loss: 0.22544, Test Acc: 99.77%\n",
      "Epoch: 10000 | Loss: 0.23466, Acc: 99.77% | Test Loss: 0.22544, Test Acc: 99.77%\n"
     ]
    }
   ],
   "source": [
    "torch.manual_seed(42)\n",
    "epochs=10001\n",
    "\n",
    "for epoch in range(epochs):\n",
    "    model.train()\n",
    "    y_logits=model(x_train).squeeze()\n",
    "    loss=loss_fn(y_logits,y_train)\n",
    "    y_pred=torch.round(y_logits)\n",
    "    acc=accuracy_fn(y_train,y_pred)\n",
    "    optimizer.zero_grad()\n",
    "    loss.backward()\n",
    "    optimizer.step()\n",
    "\n",
    "    with torch.inference_mode():\n",
    "        test_logits=model(x_test).squeeze()\n",
    "        test_loss=loss_fn(test_logits,y_test)\n",
    "        test_pred=torch.round(test_logits)\n",
    "        test_acc=accuracy_fn(y_test,test_pred)\n",
    "        if(epoch%1000==0):\n",
    "            print(f\"Epoch: {epoch} | Loss: {loss:.5f}, Acc: {acc:.2f}% | Test Loss: {test_loss:.5f}, Test Acc: {test_acc:.2f}%\")"
   ]
  }
 ],
 "metadata": {
  "kernelspec": {
   "display_name": "Python 3",
   "language": "python",
   "name": "python3"
  },
  "language_info": {
   "codemirror_mode": {
    "name": "ipython",
    "version": 3
   },
   "file_extension": ".py",
   "mimetype": "text/x-python",
   "name": "python",
   "nbconvert_exporter": "python",
   "pygments_lexer": "ipython3",
   "version": "3.9.13"
  },
  "orig_nbformat": 4
 },
 "nbformat": 4,
 "nbformat_minor": 2
}
