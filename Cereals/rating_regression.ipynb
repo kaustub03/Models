{
 "cells": [
  {
   "cell_type": "code",
   "execution_count": 113,
   "metadata": {},
   "outputs": [],
   "source": [
    "import numpy as np\n",
    "import matplotlib.pyplot as plt\n",
    "import pandas as pd\n",
    "import torch\n",
    "import torch.nn as nn"
   ]
  },
  {
   "cell_type": "code",
   "execution_count": 114,
   "metadata": {},
   "outputs": [],
   "source": [
    "device = 'cuda' if torch.cuda.is_available() else 'cpu'"
   ]
  },
  {
   "cell_type": "code",
   "execution_count": 115,
   "metadata": {},
   "outputs": [],
   "source": [
    "dataset = pd.read_csv('cereal.csv',delimiter=',')\n",
    "x = dataset.iloc[:, 1:-1].values\n",
    "y = dataset.iloc[:, -1].values"
   ]
  },
  {
   "cell_type": "code",
   "execution_count": 116,
   "metadata": {},
   "outputs": [],
   "source": [
    "from sklearn.compose import ColumnTransformer\n",
    "from sklearn.preprocessing import OneHotEncoder\n",
    "ct = ColumnTransformer(transformers=[('encoder', OneHotEncoder(), [0])], remainder='passthrough')\n",
    "x=ct.fit_transform(x)\n",
    "from sklearn.preprocessing import StandardScaler\n",
    "scx=StandardScaler()\n",
    "scy=StandardScaler()\n",
    "x[1:]=scx.fit_transform(x[1:])\n",
    "y=y.reshape(-1,1)\n",
    "y=scy.fit_transform(y)\n",
    "y=y.reshape(-1)"
   ]
  },
  {
   "cell_type": "code",
   "execution_count": 117,
   "metadata": {},
   "outputs": [],
   "source": [
    "from sklearn.model_selection import train_test_split\n",
    "x_train, x_test, y_train, y_test = train_test_split(x, y, test_size = 0.2, random_state =42)"
   ]
  },
  {
   "cell_type": "code",
   "execution_count": 118,
   "metadata": {},
   "outputs": [],
   "source": [
    "x_train=np.vstack(x_train).astype(float)\n",
    "x_train=torch.FloatTensor(x_train).to(device)\n",
    "x_test=np.vstack(x_test).astype(float)\n",
    "x_test=torch.FloatTensor(x_test).to(device)\n",
    "y_train=np.vstack(y_train).astype(float)\n",
    "y_train=torch.FloatTensor(y_train).to(device)\n",
    "y_test=np.vstack(y_test).astype(float)\n",
    "y_test=torch.FloatTensor(y_test).to(device)"
   ]
  },
  {
   "cell_type": "code",
   "execution_count": 119,
   "metadata": {},
   "outputs": [],
   "source": [
    "class Regressor(nn.Module):\n",
    "    def __init__(self):\n",
    "        super().__init__()\n",
    "        self.layer_1=nn.Linear(len(x[0]),50,device=device)\n",
    "        self.layer_2=nn.Linear(50,50,device=device)\n",
    "        self.layer_3=nn.Linear(50,1,device=device)\n",
    "        self.act=nn.ReLU()\n",
    "    def forward(self,x):\n",
    "        return self.act(self.layer_3(self.act(self.layer_2(self.act(self.layer_1(x))))))\n",
    "    \n",
    "model=Regressor().to(device)"
   ]
  },
  {
   "cell_type": "code",
   "execution_count": 120,
   "metadata": {},
   "outputs": [],
   "source": [
    "loss_fn=nn.MSELoss()\n",
    "optimizer=torch.optim.SGD(model.parameters(),lr=0.001)"
   ]
  },
  {
   "cell_type": "code",
   "execution_count": 121,
   "metadata": {},
   "outputs": [],
   "source": [
    "def accuracy_fn(y_true, y_pred):\n",
    "    y_true=y_true.reshape(-1,1)\n",
    "    y_pred=y_pred.reshape(-1,1)\n",
    "    y_true,y_pred=scy.inverse_transform(y_true),scy.inverse_transform(y_pred)\n",
    "    correct=0\n",
    "    for i in range(len(y_pred)):\n",
    "        correct+=abs(y_pred[i]-y_true[i])/y_true[i]\n",
    "    acc = correct / len(y_pred)*100\n",
    "    return acc"
   ]
  },
  {
   "cell_type": "code",
   "execution_count": 122,
   "metadata": {},
   "outputs": [
    {
     "name": "stdout",
     "output_type": "stream",
     "text": [
      "Epoch: 0 | Loss: 1.04810, Err: 28.01% | Test Loss: 0.81080, Test Err: 29.50%\n",
      "Epoch: 1000 | Loss: 1.04810, Err: 28.01% | Test Loss: 0.81080, Test Err: 29.50%\n",
      "Epoch: 2000 | Loss: 1.04810, Err: 28.01% | Test Loss: 0.81080, Test Err: 29.50%\n",
      "Epoch: 3000 | Loss: 1.04810, Err: 28.01% | Test Loss: 0.81080, Test Err: 29.50%\n",
      "Epoch: 4000 | Loss: 1.04810, Err: 28.01% | Test Loss: 0.81080, Test Err: 29.50%\n",
      "Epoch: 5000 | Loss: 1.04810, Err: 28.01% | Test Loss: 0.81080, Test Err: 29.50%\n",
      "Epoch: 6000 | Loss: 1.04810, Err: 28.01% | Test Loss: 0.81080, Test Err: 29.50%\n",
      "Epoch: 7000 | Loss: 1.04810, Err: 28.01% | Test Loss: 0.81080, Test Err: 29.50%\n",
      "Epoch: 8000 | Loss: 1.04810, Err: 28.01% | Test Loss: 0.81080, Test Err: 29.50%\n",
      "Epoch: 9000 | Loss: 1.04810, Err: 28.01% | Test Loss: 0.81080, Test Err: 29.50%\n",
      "Epoch: 10000 | Loss: 1.04810, Err: 28.01% | Test Loss: 0.81080, Test Err: 29.50%\n"
     ]
    }
   ],
   "source": [
    "torch.manual_seed(42)\n",
    "epochs=10001\n",
    "\n",
    "for epoch in range(epochs):\n",
    "    model.train()\n",
    "    y_logits=model(x_train).squeeze()\n",
    "    loss=loss_fn(y_logits,y_train.squeeze())\n",
    "    y_pred=y_logits.detach().cpu().numpy()\n",
    "    y_train1=y_train.detach().cpu().numpy()\n",
    "    err=accuracy_fn(y_train1,y_pred)\n",
    "    optimizer.zero_grad()\n",
    "    loss.backward()\n",
    "    optimizer.step()\n",
    "\n",
    "    with torch.inference_mode():\n",
    "        test_logits=model(x_test).squeeze()\n",
    "        test_loss=loss_fn(test_logits,y_test.squeeze())\n",
    "        test_pred=test_logits.detach().cpu().numpy()\n",
    "        y_test1=y_test.detach().cpu().numpy()\n",
    "        test_err=accuracy_fn(y_test1,test_pred)\n",
    "        if(epoch%1000==0):\n",
    "            print(f\"Epoch: {epoch} | Loss: {loss:.5f}, Err: {err[0]:.2f}% | Test Loss: {test_loss:.5f}, Test Err: {test_err[0]:.2f}%\")"
   ]
  }
 ],
 "metadata": {
  "kernelspec": {
   "display_name": "Python 3",
   "language": "python",
   "name": "python3"
  },
  "language_info": {
   "codemirror_mode": {
    "name": "ipython",
    "version": 3
   },
   "file_extension": ".py",
   "mimetype": "text/x-python",
   "name": "python",
   "nbconvert_exporter": "python",
   "pygments_lexer": "ipython3",
   "version": "3.9.13"
  },
  "orig_nbformat": 4
 },
 "nbformat": 4,
 "nbformat_minor": 2
}
